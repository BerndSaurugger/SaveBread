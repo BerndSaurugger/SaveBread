{
 "cells": [
  {
   "cell_type": "code",
   "execution_count": 1,
   "metadata": {
    "collapsed": true
   },
   "outputs": [],
   "source": [
    "from sklearn.datasets import load_wine\n",
    "from sklearn.model_selection import train_test_split\n",
    "import alibi\n",
    "from alibi_detect.cd import TabularDrift\n",
    "\n",
    "wine_data = load_wine()\n",
    "feature_names = wine_data.feature_names\n",
    "X, y = wine_data.data, wine_data.target\n",
    "X_ref, X_test, y_ref, y_test = train_test_split(\n",
    "    X, y,\n",
    "    test_size=0.50,\n",
    "    random_state=42\n",
    ")"
   ]
  },
  {
   "cell_type": "markdown",
   "source": [
    "# Detectig drift"
   ],
   "metadata": {
    "collapsed": false,
    "pycharm": {
     "name": "#%% md\n"
    }
   }
  },
  {
   "cell_type": "code",
   "execution_count": 2,
   "outputs": [
    {
     "name": "stdout",
     "output_type": "stream",
     "text": [
      "Drift: No\n"
     ]
    }
   ],
   "source": [
    "cd = TabularDrift(x_ref=X_ref, p_val=.01)\n",
    "preds = cd.predict(X_test)\n",
    "labels = ['No', 'Yes']\n",
    "print('Drift: {}'.format(labels[preds['data']['is_drift']]))"
   ],
   "metadata": {
    "collapsed": false,
    "pycharm": {
     "name": "#%%\n"
    }
   }
  },
  {
   "cell_type": "code",
   "execution_count": 3,
   "outputs": [
    {
     "name": "stdout",
     "output_type": "stream",
     "text": [
      "Drift: Yes\n"
     ]
    }
   ],
   "source": [
    "X_test_cal_error = 1.1*X_test\n",
    "preds = cd.predict(X_test_cal_error)\n",
    "labels = ['No', 'Yes']\n",
    "print('Drift: {}'.format(labels[preds['data']['is_drift']]))"
   ],
   "metadata": {
    "collapsed": false,
    "pycharm": {
     "name": "#%%\n"
    }
   }
  },
  {
   "cell_type": "markdown",
   "source": [
    "# Hyperparameter tuning"
   ],
   "metadata": {
    "collapsed": false,
    "pycharm": {
     "name": "#%% md\n"
    }
   }
  },
  {
   "cell_type": "code",
   "execution_count": 5,
   "outputs": [],
   "source": [
    "from hyperopt import hp\n",
    "\n",
    "space = {\n",
    "    'warm_start' : hp.choice('warm_start', [True, False]),\n",
    "    'fit_intercept' : hp.choice('fit_intercept', [True, False]),\n",
    "    'tol' : hp.uniform('tol', 0.00001, 0.0001),\n",
    "    'C' : hp.uniform('C', 0.05, 2.5),\n",
    "    'solver' : hp.choice('solver', ['newton-cg', 'lbfgs',\n",
    "    'liblinear']),\n",
    "    'max_iter' : hp.choice('max_iter', range(10,500))\n",
    "}\n",
    "\n",
    "def objective(params, n_folds, X, y):\n",
    "    # Perform n_fold cross validation with hyperparameters\n",
    "    clf = LogisticRegression(**params, random_state=42)\n",
    "    scores = cross_val_score(clf, X, y, cv=n_folds, scoring='f1_macro')\n",
    "    # Extract the best score\n",
    "    max_score = max(scores)\n",
    "    # Loss must be minimized\n",
    "    loss = 1 - max_score\n",
    "    # Dictionary with information for evaluation\n",
    "    return {\n",
    "        'loss': loss,\n",
    "        'params': params,\n",
    "        'status': STATUS_OK\n",
    "    }"
   ],
   "metadata": {
    "collapsed": false,
    "pycharm": {
     "name": "#%%\n"
    }
   }
  },
  {
   "cell_type": "markdown",
   "source": [
    "# Auto sklearn\n",
    "\n"
   ],
   "metadata": {
    "collapsed": false,
    "pycharm": {
     "name": "#%% md\n"
    }
   }
  },
  {
   "cell_type": "code",
   "execution_count": 6,
   "outputs": [
    {
     "name": "stdout",
     "output_type": "stream",
     "text": [
      "[ERROR] [2022-05-25 10:52:33,878:Client-AutoML(1):wine] Dummy prediction failed with run state StatusType.CRASHED and additional output: {'error': 'Result queue is empty', 'exit_status': \"<class 'pynisher.limit_function_call.AnythingException'>\", 'subprocess_stdout': '', 'subprocess_stderr': 'Process pynisher function call:\\nTraceback (most recent call last):\\n  File \"/Users/moberleitner/.pyenv/versions/3.9.10/lib/python3.9/multiprocessing/process.py\", line 315, in _bootstrap\\n    self.run()\\n  File \"/Users/moberleitner/.pyenv/versions/3.9.10/lib/python3.9/multiprocessing/process.py\", line 108, in run\\n    self._target(*self._args, **self._kwargs)\\n  File \"/Users/moberleitner/.pyenv/versions/3.9.10/envs/3.9.10-tf/lib/python3.9/site-packages/pynisher/limit_function_call.py\", line 108, in subprocess_func\\n    resource.setrlimit(resource.RLIMIT_AS, (mem_in_b, mem_in_b))\\nValueError: current limit exceeds maximum limit\\n', 'exitcode': 1, 'configuration_origin': 'DUMMY'}.\n"
     ]
    },
    {
     "ename": "ValueError",
     "evalue": "Dummy prediction failed with run state StatusType.CRASHED and additional output: {'error': 'Result queue is empty', 'exit_status': \"<class 'pynisher.limit_function_call.AnythingException'>\", 'subprocess_stdout': '', 'subprocess_stderr': 'Process pynisher function call:\\nTraceback (most recent call last):\\n  File \"/Users/moberleitner/.pyenv/versions/3.9.10/lib/python3.9/multiprocessing/process.py\", line 315, in _bootstrap\\n    self.run()\\n  File \"/Users/moberleitner/.pyenv/versions/3.9.10/lib/python3.9/multiprocessing/process.py\", line 108, in run\\n    self._target(*self._args, **self._kwargs)\\n  File \"/Users/moberleitner/.pyenv/versions/3.9.10/envs/3.9.10-tf/lib/python3.9/site-packages/pynisher/limit_function_call.py\", line 108, in subprocess_func\\n    resource.setrlimit(resource.RLIMIT_AS, (mem_in_b, mem_in_b))\\nValueError: current limit exceeds maximum limit\\n', 'exitcode': 1, 'configuration_origin': 'DUMMY'}.",
     "output_type": "error",
     "traceback": [
      "\u001B[0;31m---------------------------------------------------------------------------\u001B[0m",
      "\u001B[0;31mValueError\u001B[0m                                Traceback (most recent call last)",
      "Input \u001B[0;32mIn [6]\u001B[0m, in \u001B[0;36m<cell line: 17>\u001B[0;34m()\u001B[0m\n\u001B[1;32m      6\u001B[0m X_train, X_test, y_train, y_test \u001B[38;5;241m=\u001B[39m train_test_split(\n\u001B[1;32m      7\u001B[0m     X, y,\n\u001B[1;32m      8\u001B[0m     test_size\u001B[38;5;241m=\u001B[39m\u001B[38;5;241m0.50\u001B[39m,\n\u001B[1;32m      9\u001B[0m     random_state\u001B[38;5;241m=\u001B[39m\u001B[38;5;241m42\u001B[39m\n\u001B[1;32m     10\u001B[0m )\n\u001B[1;32m     12\u001B[0m automl \u001B[38;5;241m=\u001B[39m autosklearn\u001B[38;5;241m.\u001B[39mclassification\u001B[38;5;241m.\u001B[39mAutoSklearnClassifier(\n\u001B[1;32m     13\u001B[0m     time_left_for_this_task\u001B[38;5;241m=\u001B[39m\u001B[38;5;241m60\u001B[39m\u001B[38;5;241m*\u001B[39m\u001B[38;5;241m3\u001B[39m,\n\u001B[1;32m     14\u001B[0m     per_run_time_limit\u001B[38;5;241m=\u001B[39m\u001B[38;5;241m20\u001B[39m,\n\u001B[1;32m     15\u001B[0m \n\u001B[1;32m     16\u001B[0m )\n\u001B[0;32m---> 17\u001B[0m \u001B[43mautoml\u001B[49m\u001B[38;5;241;43m.\u001B[39;49m\u001B[43mfit\u001B[49m\u001B[43m(\u001B[49m\u001B[43mX_train\u001B[49m\u001B[43m,\u001B[49m\u001B[43m \u001B[49m\u001B[43my_train\u001B[49m\u001B[43m,\u001B[49m\u001B[43m \u001B[49m\u001B[43mX_test\u001B[49m\u001B[43m,\u001B[49m\u001B[43m \u001B[49m\u001B[43my_test\u001B[49m\u001B[43m,\u001B[49m\u001B[43m \u001B[49m\u001B[43mdataset_name\u001B[49m\u001B[38;5;241;43m=\u001B[39;49m\u001B[38;5;124;43m'\u001B[39;49m\u001B[38;5;124;43mwine\u001B[39;49m\u001B[38;5;124;43m'\u001B[39;49m\u001B[43m)\u001B[49m\n",
      "File \u001B[0;32m~/.pyenv/versions/3.9.10/envs/3.9.10-tf/lib/python3.9/site-packages/autosklearn/estimators.py:1045\u001B[0m, in \u001B[0;36mAutoSklearnClassifier.fit\u001B[0;34m(self, X, y, X_test, y_test, feat_type, dataset_name)\u001B[0m\n\u001B[1;32m   1042\u001B[0m \u001B[38;5;66;03m# remember target type for using in predict_proba later.\u001B[39;00m\n\u001B[1;32m   1043\u001B[0m \u001B[38;5;28mself\u001B[39m\u001B[38;5;241m.\u001B[39mtarget_type \u001B[38;5;241m=\u001B[39m target_type\n\u001B[0;32m-> 1045\u001B[0m \u001B[38;5;28;43msuper\u001B[39;49m\u001B[43m(\u001B[49m\u001B[43m)\u001B[49m\u001B[38;5;241;43m.\u001B[39;49m\u001B[43mfit\u001B[49m\u001B[43m(\u001B[49m\n\u001B[1;32m   1046\u001B[0m \u001B[43m    \u001B[49m\u001B[43mX\u001B[49m\u001B[38;5;241;43m=\u001B[39;49m\u001B[43mX\u001B[49m\u001B[43m,\u001B[49m\n\u001B[1;32m   1047\u001B[0m \u001B[43m    \u001B[49m\u001B[43my\u001B[49m\u001B[38;5;241;43m=\u001B[39;49m\u001B[43my\u001B[49m\u001B[43m,\u001B[49m\n\u001B[1;32m   1048\u001B[0m \u001B[43m    \u001B[49m\u001B[43mX_test\u001B[49m\u001B[38;5;241;43m=\u001B[39;49m\u001B[43mX_test\u001B[49m\u001B[43m,\u001B[49m\n\u001B[1;32m   1049\u001B[0m \u001B[43m    \u001B[49m\u001B[43my_test\u001B[49m\u001B[38;5;241;43m=\u001B[39;49m\u001B[43my_test\u001B[49m\u001B[43m,\u001B[49m\n\u001B[1;32m   1050\u001B[0m \u001B[43m    \u001B[49m\u001B[43mfeat_type\u001B[49m\u001B[38;5;241;43m=\u001B[39;49m\u001B[43mfeat_type\u001B[49m\u001B[43m,\u001B[49m\n\u001B[1;32m   1051\u001B[0m \u001B[43m    \u001B[49m\u001B[43mdataset_name\u001B[49m\u001B[38;5;241;43m=\u001B[39;49m\u001B[43mdataset_name\u001B[49m\u001B[43m,\u001B[49m\n\u001B[1;32m   1052\u001B[0m \u001B[43m\u001B[49m\u001B[43m)\u001B[49m\n\u001B[1;32m   1054\u001B[0m \u001B[38;5;66;03m# After fit, a classifier is expected to define classes_\u001B[39;00m\n\u001B[1;32m   1055\u001B[0m \u001B[38;5;66;03m# A list of class labels known to the classifier, mapping each label\u001B[39;00m\n\u001B[1;32m   1056\u001B[0m \u001B[38;5;66;03m# to a numerical index used in the model representation our output.\u001B[39;00m\n\u001B[1;32m   1057\u001B[0m \u001B[38;5;28mself\u001B[39m\u001B[38;5;241m.\u001B[39mclasses_ \u001B[38;5;241m=\u001B[39m \u001B[38;5;28mself\u001B[39m\u001B[38;5;241m.\u001B[39mautoml_\u001B[38;5;241m.\u001B[39mInputValidator\u001B[38;5;241m.\u001B[39mtarget_validator\u001B[38;5;241m.\u001B[39mclasses_\n",
      "File \u001B[0;32m~/.pyenv/versions/3.9.10/envs/3.9.10-tf/lib/python3.9/site-packages/autosklearn/estimators.py:375\u001B[0m, in \u001B[0;36mAutoSklearnEstimator.fit\u001B[0;34m(self, **kwargs)\u001B[0m\n\u001B[1;32m    373\u001B[0m \u001B[38;5;28;01mif\u001B[39;00m \u001B[38;5;28mself\u001B[39m\u001B[38;5;241m.\u001B[39mautoml_ \u001B[38;5;129;01mis\u001B[39;00m \u001B[38;5;28;01mNone\u001B[39;00m:\n\u001B[1;32m    374\u001B[0m     \u001B[38;5;28mself\u001B[39m\u001B[38;5;241m.\u001B[39mautoml_ \u001B[38;5;241m=\u001B[39m \u001B[38;5;28mself\u001B[39m\u001B[38;5;241m.\u001B[39mbuild_automl()\n\u001B[0;32m--> 375\u001B[0m \u001B[38;5;28;43mself\u001B[39;49m\u001B[38;5;241;43m.\u001B[39;49m\u001B[43mautoml_\u001B[49m\u001B[38;5;241;43m.\u001B[39;49m\u001B[43mfit\u001B[49m\u001B[43m(\u001B[49m\u001B[43mload_models\u001B[49m\u001B[38;5;241;43m=\u001B[39;49m\u001B[38;5;28;43mself\u001B[39;49m\u001B[38;5;241;43m.\u001B[39;49m\u001B[43mload_models\u001B[49m\u001B[43m,\u001B[49m\u001B[43m \u001B[49m\u001B[38;5;241;43m*\u001B[39;49m\u001B[38;5;241;43m*\u001B[39;49m\u001B[43mkwargs\u001B[49m\u001B[43m)\u001B[49m\n\u001B[1;32m    377\u001B[0m \u001B[38;5;28;01mreturn\u001B[39;00m \u001B[38;5;28mself\u001B[39m\n",
      "File \u001B[0;32m~/.pyenv/versions/3.9.10/envs/3.9.10-tf/lib/python3.9/site-packages/autosklearn/automl.py:2056\u001B[0m, in \u001B[0;36mAutoMLClassifier.fit\u001B[0;34m(self, X, y, X_test, y_test, feat_type, dataset_name, only_return_configuration_space, load_models)\u001B[0m\n\u001B[1;32m   2045\u001B[0m \u001B[38;5;28;01mdef\u001B[39;00m \u001B[38;5;21mfit\u001B[39m(\n\u001B[1;32m   2046\u001B[0m     \u001B[38;5;28mself\u001B[39m,\n\u001B[1;32m   2047\u001B[0m     X: SUPPORTED_FEAT_TYPES,\n\u001B[0;32m   (...)\u001B[0m\n\u001B[1;32m   2054\u001B[0m     load_models: \u001B[38;5;28mbool\u001B[39m \u001B[38;5;241m=\u001B[39m \u001B[38;5;28;01mTrue\u001B[39;00m,\n\u001B[1;32m   2055\u001B[0m ):\n\u001B[0;32m-> 2056\u001B[0m     \u001B[38;5;28;01mreturn\u001B[39;00m \u001B[38;5;28;43msuper\u001B[39;49m\u001B[43m(\u001B[49m\u001B[43m)\u001B[49m\u001B[38;5;241;43m.\u001B[39;49m\u001B[43mfit\u001B[49m\u001B[43m(\u001B[49m\n\u001B[1;32m   2057\u001B[0m \u001B[43m        \u001B[49m\u001B[43mX\u001B[49m\u001B[43m,\u001B[49m\u001B[43m \u001B[49m\u001B[43my\u001B[49m\u001B[43m,\u001B[49m\n\u001B[1;32m   2058\u001B[0m \u001B[43m        \u001B[49m\u001B[43mX_test\u001B[49m\u001B[38;5;241;43m=\u001B[39;49m\u001B[43mX_test\u001B[49m\u001B[43m,\u001B[49m\n\u001B[1;32m   2059\u001B[0m \u001B[43m        \u001B[49m\u001B[43my_test\u001B[49m\u001B[38;5;241;43m=\u001B[39;49m\u001B[43my_test\u001B[49m\u001B[43m,\u001B[49m\n\u001B[1;32m   2060\u001B[0m \u001B[43m        \u001B[49m\u001B[43mfeat_type\u001B[49m\u001B[38;5;241;43m=\u001B[39;49m\u001B[43mfeat_type\u001B[49m\u001B[43m,\u001B[49m\n\u001B[1;32m   2061\u001B[0m \u001B[43m        \u001B[49m\u001B[43mdataset_name\u001B[49m\u001B[38;5;241;43m=\u001B[39;49m\u001B[43mdataset_name\u001B[49m\u001B[43m,\u001B[49m\n\u001B[1;32m   2062\u001B[0m \u001B[43m        \u001B[49m\u001B[43monly_return_configuration_space\u001B[49m\u001B[38;5;241;43m=\u001B[39;49m\u001B[43monly_return_configuration_space\u001B[49m\u001B[43m,\u001B[49m\n\u001B[1;32m   2063\u001B[0m \u001B[43m        \u001B[49m\u001B[43mload_models\u001B[49m\u001B[38;5;241;43m=\u001B[39;49m\u001B[43mload_models\u001B[49m\u001B[43m,\u001B[49m\n\u001B[1;32m   2064\u001B[0m \u001B[43m        \u001B[49m\u001B[43mis_classification\u001B[49m\u001B[38;5;241;43m=\u001B[39;49m\u001B[38;5;28;43;01mTrue\u001B[39;49;00m\u001B[43m,\u001B[49m\n\u001B[1;32m   2065\u001B[0m \u001B[43m    \u001B[49m\u001B[43m)\u001B[49m\n",
      "File \u001B[0;32m~/.pyenv/versions/3.9.10/envs/3.9.10-tf/lib/python3.9/site-packages/autosklearn/automl.py:808\u001B[0m, in \u001B[0;36mAutoML.fit\u001B[0;34m(self, X, y, task, X_test, y_test, feat_type, dataset_name, only_return_configuration_space, load_models, is_classification)\u001B[0m\n\u001B[1;32m    804\u001B[0m     \u001B[38;5;28;01mreturn\u001B[39;00m \u001B[38;5;28mself\u001B[39m\u001B[38;5;241m.\u001B[39mconfiguration_space\n\u001B[1;32m    806\u001B[0m \u001B[38;5;66;03m# == Perform dummy predictions\u001B[39;00m\n\u001B[1;32m    807\u001B[0m \u001B[38;5;66;03m# Dummy prediction always have num_run set to 1\u001B[39;00m\n\u001B[0;32m--> 808\u001B[0m \u001B[38;5;28mself\u001B[39m\u001B[38;5;241m.\u001B[39mnum_run \u001B[38;5;241m+\u001B[39m\u001B[38;5;241m=\u001B[39m \u001B[38;5;28;43mself\u001B[39;49m\u001B[38;5;241;43m.\u001B[39;49m\u001B[43m_do_dummy_prediction\u001B[49m\u001B[43m(\u001B[49m\u001B[43mdatamanager\u001B[49m\u001B[43m,\u001B[49m\u001B[43m \u001B[49m\u001B[43mnum_run\u001B[49m\u001B[38;5;241;43m=\u001B[39;49m\u001B[38;5;241;43m1\u001B[39;49m\u001B[43m)\u001B[49m\n\u001B[1;32m    810\u001B[0m \u001B[38;5;66;03m# == RUN ensemble builder\u001B[39;00m\n\u001B[1;32m    811\u001B[0m \u001B[38;5;66;03m# Do this before calculating the meta-features to make sure that the\u001B[39;00m\n\u001B[1;32m    812\u001B[0m \u001B[38;5;66;03m# dummy predictions are actually included in the ensemble even if\u001B[39;00m\n\u001B[1;32m    813\u001B[0m \u001B[38;5;66;03m# calculating the meta-features takes very long\u001B[39;00m\n\u001B[1;32m    814\u001B[0m ensemble_task_name \u001B[38;5;241m=\u001B[39m \u001B[38;5;124m'\u001B[39m\u001B[38;5;124mrunEnsemble\u001B[39m\u001B[38;5;124m'\u001B[39m\n",
      "File \u001B[0;32m~/.pyenv/versions/3.9.10/envs/3.9.10-tf/lib/python3.9/site-packages/autosklearn/automl.py:476\u001B[0m, in \u001B[0;36mAutoML._do_dummy_prediction\u001B[0;34m(self, datamanager, num_run)\u001B[0m\n\u001B[1;32m    471\u001B[0m         \u001B[38;5;28mself\u001B[39m\u001B[38;5;241m.\u001B[39m_logger\u001B[38;5;241m.\u001B[39merror(\n\u001B[1;32m    472\u001B[0m             \u001B[38;5;124m\"\u001B[39m\u001B[38;5;124mDummy prediction failed with run state \u001B[39m\u001B[38;5;132;01m%s\u001B[39;00m\u001B[38;5;124m and additional output: \u001B[39m\u001B[38;5;132;01m%s\u001B[39;00m\u001B[38;5;124m.\u001B[39m\u001B[38;5;124m\"\u001B[39m,\n\u001B[1;32m    473\u001B[0m             \u001B[38;5;28mstr\u001B[39m(status), \u001B[38;5;28mstr\u001B[39m(additional_info),\n\u001B[1;32m    474\u001B[0m         )\n\u001B[1;32m    475\u001B[0m         \u001B[38;5;66;03m# Fail if dummy prediction fails.\u001B[39;00m\n\u001B[0;32m--> 476\u001B[0m         \u001B[38;5;28;01mraise\u001B[39;00m \u001B[38;5;167;01mValueError\u001B[39;00m(\n\u001B[1;32m    477\u001B[0m             \u001B[38;5;124m\"\u001B[39m\u001B[38;5;124mDummy prediction failed with run state \u001B[39m\u001B[38;5;132;01m%s\u001B[39;00m\u001B[38;5;124m and additional output: \u001B[39m\u001B[38;5;132;01m%s\u001B[39;00m\u001B[38;5;124m.\u001B[39m\u001B[38;5;124m\"\u001B[39m\n\u001B[1;32m    478\u001B[0m             \u001B[38;5;241m%\u001B[39m (\u001B[38;5;28mstr\u001B[39m(status), \u001B[38;5;28mstr\u001B[39m(additional_info))\n\u001B[1;32m    479\u001B[0m         )\n\u001B[1;32m    480\u001B[0m \u001B[38;5;28;01mreturn\u001B[39;00m num_run\n",
      "\u001B[0;31mValueError\u001B[0m: Dummy prediction failed with run state StatusType.CRASHED and additional output: {'error': 'Result queue is empty', 'exit_status': \"<class 'pynisher.limit_function_call.AnythingException'>\", 'subprocess_stdout': '', 'subprocess_stderr': 'Process pynisher function call:\\nTraceback (most recent call last):\\n  File \"/Users/moberleitner/.pyenv/versions/3.9.10/lib/python3.9/multiprocessing/process.py\", line 315, in _bootstrap\\n    self.run()\\n  File \"/Users/moberleitner/.pyenv/versions/3.9.10/lib/python3.9/multiprocessing/process.py\", line 108, in run\\n    self._target(*self._args, **self._kwargs)\\n  File \"/Users/moberleitner/.pyenv/versions/3.9.10/envs/3.9.10-tf/lib/python3.9/site-packages/pynisher/limit_function_call.py\", line 108, in subprocess_func\\n    resource.setrlimit(resource.RLIMIT_AS, (mem_in_b, mem_in_b))\\nValueError: current limit exceeds maximum limit\\n', 'exitcode': 1, 'configuration_origin': 'DUMMY'}."
     ]
    }
   ],
   "source": [
    "import numpy as np\n",
    "import sklearn.datasets\n",
    "import sklearn.metrics\n",
    "import autosklearn.classification\n",
    "\n",
    "X_train, X_test, y_train, y_test = train_test_split(\n",
    "    X, y,\n",
    "    test_size=0.50,\n",
    "    random_state=42\n",
    ")\n",
    "\n",
    "automl = autosklearn.classification.AutoSklearnClassifier(\n",
    "    time_left_for_this_task=60*3,\n",
    "    per_run_time_limit=20,\n",
    "\n",
    ")\n",
    "automl.fit(X_train, y_train, X_test, y_test, dataset_name='wine')"
   ],
   "metadata": {
    "collapsed": false,
    "pycharm": {
     "name": "#%%\n"
    }
   }
  },
  {
   "cell_type": "markdown",
   "source": [
    "# Autokeras"
   ],
   "metadata": {
    "collapsed": false,
    "pycharm": {
     "name": "#%% md\n"
    }
   }
  },
  {
   "cell_type": "code",
   "execution_count": 8,
   "outputs": [
    {
     "name": "stdout",
     "output_type": "stream",
     "text": [
      "INFO:tensorflow:Reloading Oracle from existing project ./structured_data_classifier/oracle.json\n",
      "INFO:tensorflow:Reloading Tuner from ./structured_data_classifier/tuner0.json\n",
      "INFO:tensorflow:Oracle triggered exit\n",
      "INFO:tensorflow:Assets written to: ./structured_data_classifier/best_model/assets\n",
      "WARNING:tensorflow:Detecting that an object or model or tf.train.Checkpoint is being deleted with unrestored values. See the following logs for the specific values in question. To silence these warnings, use `status.expect_partial()`. See https://www.tensorflow.org/api_docs/python/tf/train/Checkpoint#restorefor details about the status object returned by the restore function.\n",
      "[WARNING] [2022-05-25 11:01:54,788:tensorflow] Detecting that an object or model or tf.train.Checkpoint is being deleted with unrestored values. See the following logs for the specific values in question. To silence these warnings, use `status.expect_partial()`. See https://www.tensorflow.org/api_docs/python/tf/train/Checkpoint#restorefor details about the status object returned by the restore function.\n",
      "WARNING:tensorflow:Value in checkpoint could not be found in the restored object: (root).optimizer.iter\n",
      "[WARNING] [2022-05-25 11:01:54,789:tensorflow] Value in checkpoint could not be found in the restored object: (root).optimizer.iter\n",
      "WARNING:tensorflow:Value in checkpoint could not be found in the restored object: (root).optimizer.beta_1\n",
      "[WARNING] [2022-05-25 11:01:54,790:tensorflow] Value in checkpoint could not be found in the restored object: (root).optimizer.beta_1\n",
      "WARNING:tensorflow:Value in checkpoint could not be found in the restored object: (root).optimizer.beta_2\n",
      "[WARNING] [2022-05-25 11:01:54,791:tensorflow] Value in checkpoint could not be found in the restored object: (root).optimizer.beta_2\n",
      "WARNING:tensorflow:Value in checkpoint could not be found in the restored object: (root).optimizer.decay\n",
      "[WARNING] [2022-05-25 11:01:54,792:tensorflow] Value in checkpoint could not be found in the restored object: (root).optimizer.decay\n",
      "WARNING:tensorflow:Value in checkpoint could not be found in the restored object: (root).optimizer.learning_rate\n",
      "[WARNING] [2022-05-25 11:01:54,793:tensorflow] Value in checkpoint could not be found in the restored object: (root).optimizer.learning_rate\n",
      "3/3 [==============================] - 0s 1ms/step - loss: 0.3738 - accuracy: 0.9775\b\b\b\b\b\b\b\b\b\b\b\b\b\b\b\b\b\b\b\b\b\b\b\b\b\b\b\b\b\b\b\b\b\b\b\b\b\b\b\b\b\b\b\b\b\b\b\b\b\b\b\b\b\b\b\b\b\b\b\b\b\b\b\b\b\b\b\b\b\b\b\b\b\b\b\b\n"
     ]
    }
   ],
   "source": [
    "import autokeras as ak\n",
    "\n",
    "clf = ak.StructuredDataClassifier(max_trials=5)\n",
    "clf.fit(x=X_train, y=y_train, validation_data=(X_test, y_test))\n",
    "accuracy=clf.evaluate(x=X_test, y=y_test)"
   ],
   "metadata": {
    "collapsed": false,
    "pycharm": {
     "name": "#%%\n"
    }
   }
  },
  {
   "cell_type": "code",
   "execution_count": null,
   "outputs": [],
   "source": [],
   "metadata": {
    "collapsed": false,
    "pycharm": {
     "name": "#%%\n"
    }
   }
  }
 ],
 "metadata": {
  "kernelspec": {
   "name": "python3",
   "language": "python",
   "display_name": "Python 3 (ipykernel)"
  },
  "language_info": {
   "codemirror_mode": {
    "name": "ipython",
    "version": 2
   },
   "file_extension": ".py",
   "mimetype": "text/x-python",
   "name": "python",
   "nbconvert_exporter": "python",
   "pygments_lexer": "ipython2",
   "version": "2.7.6"
  }
 },
 "nbformat": 4,
 "nbformat_minor": 0
}