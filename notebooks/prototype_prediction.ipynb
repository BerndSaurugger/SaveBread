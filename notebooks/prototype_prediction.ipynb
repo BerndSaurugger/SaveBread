{
 "cells": [
  {
   "cell_type": "code",
   "execution_count": 62,
   "metadata": {
    "collapsed": true
   },
   "outputs": [],
   "source": [
    "import pandas as pd\n",
    "from sklearn.model_selection import train_test_split, cross_val_score\n",
    "from sklearn.metrics import mean_squared_error\n",
    "\n",
    "from sklearn.pipeline import Pipeline\n",
    "from sklearn.preprocessing import StandardScaler\n",
    "from sklearn.linear_model import LinearRegression\n",
    "from sklearn.preprocessing import OneHotEncoder\n",
    "from sklearn.compose import ColumnTransformer\n",
    "\n",
    "def get_dummy_data(path='./src/data/bakery_sales_dataset_preprocessed.csv'):\n",
    "    df = pd.read_csv(path, sep=',', index_col=0)\n",
    "    x_columns = ['date', 'daytime', 'weekday', 'holiday', 'h_type','weather', 'temp']\n",
    "    # Drop date because we only have 1 year of data.\n",
    "    # Month is not considered as a feature because of this also.\n",
    "    x = df[x_columns].drop(['date'], axis=1)\n",
    "    y = df.drop(x_columns, axis=1)\n",
    "    return x, y\n",
    "\n",
    "\n",
    "def get_linear_regression_model(x, y):\n",
    "    clf = Pipeline([\n",
    "        ('column_transform', ColumnTransformer([\n",
    "            ('one_hot', OneHotEncoder(drop='first', handle_unknown='ignore', sparse=False), ['weekday'])\n",
    "        ], remainder='passthrough')),\n",
    "        (\"scaler\", StandardScaler()),\n",
    "        (\"clf\", LinearRegression(n_jobs=-1)),\n",
    "    ])\n",
    "    scores = cross_val_score(clf, x, y, cv=5, scoring='neg_mean_squared_error')\n",
    "    print(\"%0.2f mean squared error with a standard deviation of %0.2f\" % (-scores.mean(), scores.std()))\n",
    "    clf.fit(x, y)\n",
    "\n",
    "    return clf\n",
    "\n",
    "\n",
    "def score(y_test, y_pred):\n",
    "    \"\"\" Print and return various validation scores \"\"\"\n",
    "    score = {\n",
    "        \"mse\": mean_squared_error(y_test, y_pred),\n",
    "        # \"roc_auc\": roc_auc_score(y_test, y_pred),\n",
    "    }\n",
    "    print(score)\n",
    "    return score"
   ]
  },
  {
   "cell_type": "code",
   "execution_count": 63,
   "outputs": [
    {
     "data": {
      "text/plain": "     daytime  weekday  holiday  h_type  weather  temp\n0          2        3        0       0        2  22.0\n1          1        4        0       0        1  23.8\n2          1        5        0       0        2  25.1\n3          2        5        0       0        2  25.1\n4          1        6        0       0        1  26.0\n..       ...      ...      ...     ...      ...   ...\n412        1        3        1       4        1  16.5\n413        2        3        1       4        1  16.5\n414        1        4        1       1        1  20.5\n415        2        4        1       1        1  20.5\n416        1        5        0       0        1  20.8\n\n[417 rows x 6 columns]",
      "text/html": "<div>\n<style scoped>\n    .dataframe tbody tr th:only-of-type {\n        vertical-align: middle;\n    }\n\n    .dataframe tbody tr th {\n        vertical-align: top;\n    }\n\n    .dataframe thead th {\n        text-align: right;\n    }\n</style>\n<table border=\"1\" class=\"dataframe\">\n  <thead>\n    <tr style=\"text-align: right;\">\n      <th></th>\n      <th>daytime</th>\n      <th>weekday</th>\n      <th>holiday</th>\n      <th>h_type</th>\n      <th>weather</th>\n      <th>temp</th>\n    </tr>\n  </thead>\n  <tbody>\n    <tr>\n      <th>0</th>\n      <td>2</td>\n      <td>3</td>\n      <td>0</td>\n      <td>0</td>\n      <td>2</td>\n      <td>22.0</td>\n    </tr>\n    <tr>\n      <th>1</th>\n      <td>1</td>\n      <td>4</td>\n      <td>0</td>\n      <td>0</td>\n      <td>1</td>\n      <td>23.8</td>\n    </tr>\n    <tr>\n      <th>2</th>\n      <td>1</td>\n      <td>5</td>\n      <td>0</td>\n      <td>0</td>\n      <td>2</td>\n      <td>25.1</td>\n    </tr>\n    <tr>\n      <th>3</th>\n      <td>2</td>\n      <td>5</td>\n      <td>0</td>\n      <td>0</td>\n      <td>2</td>\n      <td>25.1</td>\n    </tr>\n    <tr>\n      <th>4</th>\n      <td>1</td>\n      <td>6</td>\n      <td>0</td>\n      <td>0</td>\n      <td>1</td>\n      <td>26.0</td>\n    </tr>\n    <tr>\n      <th>...</th>\n      <td>...</td>\n      <td>...</td>\n      <td>...</td>\n      <td>...</td>\n      <td>...</td>\n      <td>...</td>\n    </tr>\n    <tr>\n      <th>412</th>\n      <td>1</td>\n      <td>3</td>\n      <td>1</td>\n      <td>4</td>\n      <td>1</td>\n      <td>16.5</td>\n    </tr>\n    <tr>\n      <th>413</th>\n      <td>2</td>\n      <td>3</td>\n      <td>1</td>\n      <td>4</td>\n      <td>1</td>\n      <td>16.5</td>\n    </tr>\n    <tr>\n      <th>414</th>\n      <td>1</td>\n      <td>4</td>\n      <td>1</td>\n      <td>1</td>\n      <td>1</td>\n      <td>20.5</td>\n    </tr>\n    <tr>\n      <th>415</th>\n      <td>2</td>\n      <td>4</td>\n      <td>1</td>\n      <td>1</td>\n      <td>1</td>\n      <td>20.5</td>\n    </tr>\n    <tr>\n      <th>416</th>\n      <td>1</td>\n      <td>5</td>\n      <td>0</td>\n      <td>0</td>\n      <td>1</td>\n      <td>20.8</td>\n    </tr>\n  </tbody>\n</table>\n<p>417 rows × 6 columns</p>\n</div>"
     },
     "execution_count": 63,
     "metadata": {},
     "output_type": "execute_result"
    }
   ],
   "source": [
    "x, y = get_dummy_data('/Users/moberleitner/fhrepos/savebread/src/data/bakery_sales_dataset_preprocessed.csv')\n",
    "x_train, x_test, y_train, y_test = train_test_split(\n",
    "    x, y, test_size=0.33, random_state=42\n",
    ")\n",
    "x"
   ],
   "metadata": {
    "collapsed": false,
    "pycharm": {
     "name": "#%%\n"
    }
   }
  },
  {
   "cell_type": "code",
   "execution_count": 26,
   "outputs": [
    {
     "data": {
      "text/plain": "     angbutter  plain bread  jam  americano  croissant  caffe latte  \\\n0          2.0          0.0  0.0        1.0        0.0          0.0   \n1          0.0          0.0  0.0        0.0        0.0          0.0   \n2          4.0          1.0  0.0        0.0        0.0          0.0   \n3          4.0          2.0  0.0        0.0        0.0          0.0   \n4         14.0          0.0  1.0        3.0        0.0          1.0   \n..         ...          ...  ...        ...        ...          ...   \n412        5.0          2.0  0.0        1.0        1.0          0.0   \n413        2.0          1.0  0.0        1.0        0.0          0.0   \n414       14.0          3.0  0.0        4.0        4.0          1.0   \n415        1.0          1.0  0.0        0.0        1.0          0.0   \n416        4.0          1.0  0.0        1.0        1.0          1.0   \n\n     tiramisu croissant  cacao deep  pain au chocolat  almond croissant  ...  \\\n0                   4.0         0.0               0.0               0.0  ...   \n1                  14.0         0.0               0.0               0.0  ...   \n2                   1.0         0.0               0.0               0.0  ...   \n3                   4.0         2.0               0.0               0.0  ...   \n4                   8.0         4.0               0.0               0.0  ...   \n..                  ...         ...               ...               ...  ...   \n412                 4.0         1.0               2.0               0.0  ...   \n413                 0.0         1.0               0.0               1.0  ...   \n414                 4.0         1.0               3.0               1.0  ...   \n415                 2.0         0.0               0.0               1.0  ...   \n416                 3.0         1.0               2.0               0.0  ...   \n\n     gateau chocolat  pandoro  cheese cake  lemon ade  orange pound  wiener  \\\n0                0.0      0.0          0.0        0.0           1.0     0.0   \n1                0.0      0.0          0.0        0.0           0.0     0.0   \n2                0.0      0.0          0.0        0.0           0.0     0.0   \n3                0.0      0.0          0.0        0.0           1.0     0.0   \n4                0.0      0.0          0.0        0.0           4.0     0.0   \n..               ...      ...          ...        ...           ...     ...   \n412              1.0      1.0          0.0        0.0           1.0     3.0   \n413              0.0      0.0          0.0        0.0           1.0     0.0   \n414              0.0      0.0          0.0        0.0           3.0     1.0   \n415              0.0      0.0          0.0        0.0           0.0     0.0   \n416              0.0      0.0          2.0        0.0           1.0     0.0   \n\n     vanila latte  berry ade  tiramisu  merinque cookies  \n0             1.0        0.0       0.0               0.0  \n1             0.0        0.0       0.0               0.0  \n2             2.0        0.0       0.0               0.0  \n3             1.0        0.0       0.0               0.0  \n4             4.0        0.0       0.0               0.0  \n..            ...        ...       ...               ...  \n412           0.0        0.0       0.0               0.0  \n413           0.0        0.0       0.0               0.0  \n414           0.0        0.0       0.0               1.0  \n415           0.0        0.0       0.0               0.0  \n416           1.0        1.0       0.0               0.0  \n\n[417 rows x 23 columns]",
      "text/html": "<div>\n<style scoped>\n    .dataframe tbody tr th:only-of-type {\n        vertical-align: middle;\n    }\n\n    .dataframe tbody tr th {\n        vertical-align: top;\n    }\n\n    .dataframe thead th {\n        text-align: right;\n    }\n</style>\n<table border=\"1\" class=\"dataframe\">\n  <thead>\n    <tr style=\"text-align: right;\">\n      <th></th>\n      <th>angbutter</th>\n      <th>plain bread</th>\n      <th>jam</th>\n      <th>americano</th>\n      <th>croissant</th>\n      <th>caffe latte</th>\n      <th>tiramisu croissant</th>\n      <th>cacao deep</th>\n      <th>pain au chocolat</th>\n      <th>almond croissant</th>\n      <th>...</th>\n      <th>gateau chocolat</th>\n      <th>pandoro</th>\n      <th>cheese cake</th>\n      <th>lemon ade</th>\n      <th>orange pound</th>\n      <th>wiener</th>\n      <th>vanila latte</th>\n      <th>berry ade</th>\n      <th>tiramisu</th>\n      <th>merinque cookies</th>\n    </tr>\n  </thead>\n  <tbody>\n    <tr>\n      <th>0</th>\n      <td>2.0</td>\n      <td>0.0</td>\n      <td>0.0</td>\n      <td>1.0</td>\n      <td>0.0</td>\n      <td>0.0</td>\n      <td>4.0</td>\n      <td>0.0</td>\n      <td>0.0</td>\n      <td>0.0</td>\n      <td>...</td>\n      <td>0.0</td>\n      <td>0.0</td>\n      <td>0.0</td>\n      <td>0.0</td>\n      <td>1.0</td>\n      <td>0.0</td>\n      <td>1.0</td>\n      <td>0.0</td>\n      <td>0.0</td>\n      <td>0.0</td>\n    </tr>\n    <tr>\n      <th>1</th>\n      <td>0.0</td>\n      <td>0.0</td>\n      <td>0.0</td>\n      <td>0.0</td>\n      <td>0.0</td>\n      <td>0.0</td>\n      <td>14.0</td>\n      <td>0.0</td>\n      <td>0.0</td>\n      <td>0.0</td>\n      <td>...</td>\n      <td>0.0</td>\n      <td>0.0</td>\n      <td>0.0</td>\n      <td>0.0</td>\n      <td>0.0</td>\n      <td>0.0</td>\n      <td>0.0</td>\n      <td>0.0</td>\n      <td>0.0</td>\n      <td>0.0</td>\n    </tr>\n    <tr>\n      <th>2</th>\n      <td>4.0</td>\n      <td>1.0</td>\n      <td>0.0</td>\n      <td>0.0</td>\n      <td>0.0</td>\n      <td>0.0</td>\n      <td>1.0</td>\n      <td>0.0</td>\n      <td>0.0</td>\n      <td>0.0</td>\n      <td>...</td>\n      <td>0.0</td>\n      <td>0.0</td>\n      <td>0.0</td>\n      <td>0.0</td>\n      <td>0.0</td>\n      <td>0.0</td>\n      <td>2.0</td>\n      <td>0.0</td>\n      <td>0.0</td>\n      <td>0.0</td>\n    </tr>\n    <tr>\n      <th>3</th>\n      <td>4.0</td>\n      <td>2.0</td>\n      <td>0.0</td>\n      <td>0.0</td>\n      <td>0.0</td>\n      <td>0.0</td>\n      <td>4.0</td>\n      <td>2.0</td>\n      <td>0.0</td>\n      <td>0.0</td>\n      <td>...</td>\n      <td>0.0</td>\n      <td>0.0</td>\n      <td>0.0</td>\n      <td>0.0</td>\n      <td>1.0</td>\n      <td>0.0</td>\n      <td>1.0</td>\n      <td>0.0</td>\n      <td>0.0</td>\n      <td>0.0</td>\n    </tr>\n    <tr>\n      <th>4</th>\n      <td>14.0</td>\n      <td>0.0</td>\n      <td>1.0</td>\n      <td>3.0</td>\n      <td>0.0</td>\n      <td>1.0</td>\n      <td>8.0</td>\n      <td>4.0</td>\n      <td>0.0</td>\n      <td>0.0</td>\n      <td>...</td>\n      <td>0.0</td>\n      <td>0.0</td>\n      <td>0.0</td>\n      <td>0.0</td>\n      <td>4.0</td>\n      <td>0.0</td>\n      <td>4.0</td>\n      <td>0.0</td>\n      <td>0.0</td>\n      <td>0.0</td>\n    </tr>\n    <tr>\n      <th>...</th>\n      <td>...</td>\n      <td>...</td>\n      <td>...</td>\n      <td>...</td>\n      <td>...</td>\n      <td>...</td>\n      <td>...</td>\n      <td>...</td>\n      <td>...</td>\n      <td>...</td>\n      <td>...</td>\n      <td>...</td>\n      <td>...</td>\n      <td>...</td>\n      <td>...</td>\n      <td>...</td>\n      <td>...</td>\n      <td>...</td>\n      <td>...</td>\n      <td>...</td>\n      <td>...</td>\n    </tr>\n    <tr>\n      <th>412</th>\n      <td>5.0</td>\n      <td>2.0</td>\n      <td>0.0</td>\n      <td>1.0</td>\n      <td>1.0</td>\n      <td>0.0</td>\n      <td>4.0</td>\n      <td>1.0</td>\n      <td>2.0</td>\n      <td>0.0</td>\n      <td>...</td>\n      <td>1.0</td>\n      <td>1.0</td>\n      <td>0.0</td>\n      <td>0.0</td>\n      <td>1.0</td>\n      <td>3.0</td>\n      <td>0.0</td>\n      <td>0.0</td>\n      <td>0.0</td>\n      <td>0.0</td>\n    </tr>\n    <tr>\n      <th>413</th>\n      <td>2.0</td>\n      <td>1.0</td>\n      <td>0.0</td>\n      <td>1.0</td>\n      <td>0.0</td>\n      <td>0.0</td>\n      <td>0.0</td>\n      <td>1.0</td>\n      <td>0.0</td>\n      <td>1.0</td>\n      <td>...</td>\n      <td>0.0</td>\n      <td>0.0</td>\n      <td>0.0</td>\n      <td>0.0</td>\n      <td>1.0</td>\n      <td>0.0</td>\n      <td>0.0</td>\n      <td>0.0</td>\n      <td>0.0</td>\n      <td>0.0</td>\n    </tr>\n    <tr>\n      <th>414</th>\n      <td>14.0</td>\n      <td>3.0</td>\n      <td>0.0</td>\n      <td>4.0</td>\n      <td>4.0</td>\n      <td>1.0</td>\n      <td>4.0</td>\n      <td>1.0</td>\n      <td>3.0</td>\n      <td>1.0</td>\n      <td>...</td>\n      <td>0.0</td>\n      <td>0.0</td>\n      <td>0.0</td>\n      <td>0.0</td>\n      <td>3.0</td>\n      <td>1.0</td>\n      <td>0.0</td>\n      <td>0.0</td>\n      <td>0.0</td>\n      <td>1.0</td>\n    </tr>\n    <tr>\n      <th>415</th>\n      <td>1.0</td>\n      <td>1.0</td>\n      <td>0.0</td>\n      <td>0.0</td>\n      <td>1.0</td>\n      <td>0.0</td>\n      <td>2.0</td>\n      <td>0.0</td>\n      <td>0.0</td>\n      <td>1.0</td>\n      <td>...</td>\n      <td>0.0</td>\n      <td>0.0</td>\n      <td>0.0</td>\n      <td>0.0</td>\n      <td>0.0</td>\n      <td>0.0</td>\n      <td>0.0</td>\n      <td>0.0</td>\n      <td>0.0</td>\n      <td>0.0</td>\n    </tr>\n    <tr>\n      <th>416</th>\n      <td>4.0</td>\n      <td>1.0</td>\n      <td>0.0</td>\n      <td>1.0</td>\n      <td>1.0</td>\n      <td>1.0</td>\n      <td>3.0</td>\n      <td>1.0</td>\n      <td>2.0</td>\n      <td>0.0</td>\n      <td>...</td>\n      <td>0.0</td>\n      <td>0.0</td>\n      <td>2.0</td>\n      <td>0.0</td>\n      <td>1.0</td>\n      <td>0.0</td>\n      <td>1.0</td>\n      <td>1.0</td>\n      <td>0.0</td>\n      <td>0.0</td>\n    </tr>\n  </tbody>\n</table>\n<p>417 rows × 23 columns</p>\n</div>"
     },
     "execution_count": 26,
     "metadata": {},
     "output_type": "execute_result"
    }
   ],
   "source": [
    "y"
   ],
   "metadata": {
    "collapsed": false,
    "pycharm": {
     "name": "#%%\n"
    }
   }
  },
  {
   "cell_type": "code",
   "execution_count": 27,
   "outputs": [
    {
     "name": "stdout",
     "output_type": "stream",
     "text": [
      "{'mse': 2.430383577630602}\n"
     ]
    },
    {
     "data": {
      "text/plain": "{'mse': 2.430383577630602}"
     },
     "execution_count": 27,
     "metadata": {},
     "output_type": "execute_result"
    }
   ],
   "source": [
    "# First Pipeline\n",
    "pipeline = Pipeline([\n",
    "    (\"scaler\", StandardScaler()),\n",
    "    (\"clf\", LinearRegression()),\n",
    "]).fit(x_train, y_train)\n",
    "\n",
    "y_pred = pipeline.predict(x_test)\n",
    "score(y_test, y_pred)"
   ],
   "metadata": {
    "collapsed": false,
    "pycharm": {
     "name": "#%%\n"
    }
   }
  },
  {
   "cell_type": "code",
   "execution_count": 38,
   "outputs": [
    {
     "name": "stdout",
     "output_type": "stream",
     "text": [
      "{'mse': 2.405398021028507}\n"
     ]
    },
    {
     "data": {
      "text/plain": "{'mse': 2.405398021028507}"
     },
     "execution_count": 38,
     "metadata": {},
     "output_type": "execute_result"
    }
   ],
   "source": [
    "# Add One Hot Encoding\n",
    "pipeline = Pipeline([\n",
    "    ('column_transform', ColumnTransformer([\n",
    "        ('one_hot', OneHotEncoder(drop='first', handle_unknown='ignore', sparse=False), ['weekday'])\n",
    "    ], remainder='passthrough')),\n",
    "    (\"scaler\", StandardScaler()),\n",
    "    (\"clf\", LinearRegression(n_jobs=-1)),\n",
    "]).fit(x_train, y_train)\n",
    "\n",
    "y_pred = pipeline.predict(x_test)\n",
    "score(y_test, y_pred)"
   ],
   "metadata": {
    "collapsed": false,
    "pycharm": {
     "name": "#%%\n"
    }
   }
  },
  {
   "cell_type": "code",
   "execution_count": 52,
   "outputs": [
    {
     "ename": "ValueError",
     "evalue": "'mean_squared_error' is not a valid scoring value. Use sorted(sklearn.metrics.SCORERS.keys()) to get valid options.",
     "output_type": "error",
     "traceback": [
      "\u001B[0;31m---------------------------------------------------------------------------\u001B[0m",
      "\u001B[0;31mKeyError\u001B[0m                                  Traceback (most recent call last)",
      "File \u001B[0;32m~/.pyenv/versions/3.9.10/envs/3.9.10-tf/lib/python3.9/site-packages/sklearn/metrics/_scorer.py:404\u001B[0m, in \u001B[0;36mget_scorer\u001B[0;34m(scoring)\u001B[0m\n\u001B[1;32m    403\u001B[0m \u001B[38;5;28;01mtry\u001B[39;00m:\n\u001B[0;32m--> 404\u001B[0m     scorer \u001B[38;5;241m=\u001B[39m \u001B[43mSCORERS\u001B[49m\u001B[43m[\u001B[49m\u001B[43mscoring\u001B[49m\u001B[43m]\u001B[49m\n\u001B[1;32m    405\u001B[0m \u001B[38;5;28;01mexcept\u001B[39;00m \u001B[38;5;167;01mKeyError\u001B[39;00m:\n",
      "\u001B[0;31mKeyError\u001B[0m: 'mean_squared_error'",
      "\nDuring handling of the above exception, another exception occurred:\n",
      "\u001B[0;31mValueError\u001B[0m                                Traceback (most recent call last)",
      "Input \u001B[0;32mIn [52]\u001B[0m, in \u001B[0;36m<cell line: 1>\u001B[0;34m()\u001B[0m\n\u001B[0;32m----> 1\u001B[0m \u001B[43mget_linear_regression_model\u001B[49m\u001B[43m(\u001B[49m\u001B[38;5;241;43m*\u001B[39;49m\u001B[43mget_dummy_data\u001B[49m\u001B[43m(\u001B[49m\u001B[38;5;124;43m'\u001B[39;49m\u001B[38;5;124;43m/Users/moberleitner/fhrepos/savebread/src/data/bakery_sales_dataset_preprocessed.csv\u001B[39;49m\u001B[38;5;124;43m'\u001B[39;49m\u001B[43m)\u001B[49m\u001B[43m)\u001B[49m\n",
      "Input \u001B[0;32mIn [51]\u001B[0m, in \u001B[0;36mget_linear_regression_model\u001B[0;34m(x, y)\u001B[0m\n\u001B[1;32m     21\u001B[0m \u001B[38;5;28;01mdef\u001B[39;00m \u001B[38;5;21mget_linear_regression_model\u001B[39m(x, y):\n\u001B[1;32m     22\u001B[0m     clf \u001B[38;5;241m=\u001B[39m Pipeline([\n\u001B[1;32m     23\u001B[0m         (\u001B[38;5;124m'\u001B[39m\u001B[38;5;124mcolumn_transform\u001B[39m\u001B[38;5;124m'\u001B[39m, ColumnTransformer([\n\u001B[1;32m     24\u001B[0m             (\u001B[38;5;124m'\u001B[39m\u001B[38;5;124mone_hot\u001B[39m\u001B[38;5;124m'\u001B[39m, OneHotEncoder(drop\u001B[38;5;241m=\u001B[39m\u001B[38;5;124m'\u001B[39m\u001B[38;5;124mfirst\u001B[39m\u001B[38;5;124m'\u001B[39m, handle_unknown\u001B[38;5;241m=\u001B[39m\u001B[38;5;124m'\u001B[39m\u001B[38;5;124mignore\u001B[39m\u001B[38;5;124m'\u001B[39m, sparse\u001B[38;5;241m=\u001B[39m\u001B[38;5;28;01mFalse\u001B[39;00m), [\u001B[38;5;124m'\u001B[39m\u001B[38;5;124mweekday\u001B[39m\u001B[38;5;124m'\u001B[39m])\n\u001B[0;32m   (...)\u001B[0m\n\u001B[1;32m     27\u001B[0m         (\u001B[38;5;124m\"\u001B[39m\u001B[38;5;124mclf\u001B[39m\u001B[38;5;124m\"\u001B[39m, LinearRegression(n_jobs\u001B[38;5;241m=\u001B[39m\u001B[38;5;241m-\u001B[39m\u001B[38;5;241m1\u001B[39m)),\n\u001B[1;32m     28\u001B[0m     ])\n\u001B[0;32m---> 29\u001B[0m     scores \u001B[38;5;241m=\u001B[39m \u001B[43mcross_val_score\u001B[49m\u001B[43m(\u001B[49m\u001B[43mclf\u001B[49m\u001B[43m,\u001B[49m\u001B[43m \u001B[49m\u001B[43mx\u001B[49m\u001B[43m,\u001B[49m\u001B[43m \u001B[49m\u001B[43my\u001B[49m\u001B[43m,\u001B[49m\u001B[43m \u001B[49m\u001B[43mcv\u001B[49m\u001B[38;5;241;43m=\u001B[39;49m\u001B[38;5;241;43m5\u001B[39;49m\u001B[43m,\u001B[49m\u001B[43m \u001B[49m\u001B[43mscoring\u001B[49m\u001B[38;5;241;43m=\u001B[39;49m\u001B[38;5;124;43m'\u001B[39;49m\u001B[38;5;124;43mmean_squared_error\u001B[39;49m\u001B[38;5;124;43m'\u001B[39;49m\u001B[43m)\u001B[49m\n\u001B[1;32m     30\u001B[0m     \u001B[38;5;28mprint\u001B[39m(\u001B[38;5;124m\"\u001B[39m\u001B[38;5;132;01m%0.2f\u001B[39;00m\u001B[38;5;124m accuracy with a standard deviation of \u001B[39m\u001B[38;5;132;01m%0.2f\u001B[39;00m\u001B[38;5;124m\"\u001B[39m \u001B[38;5;241m%\u001B[39m (scores\u001B[38;5;241m.\u001B[39mmean(), scores\u001B[38;5;241m.\u001B[39mstd()))\n\u001B[1;32m     31\u001B[0m     clf\u001B[38;5;241m.\u001B[39mfit(x, y)\n",
      "File \u001B[0;32m~/.pyenv/versions/3.9.10/envs/3.9.10-tf/lib/python3.9/site-packages/sklearn/model_selection/_validation.py:507\u001B[0m, in \u001B[0;36mcross_val_score\u001B[0;34m(estimator, X, y, groups, scoring, cv, n_jobs, verbose, fit_params, pre_dispatch, error_score)\u001B[0m\n\u001B[1;32m    389\u001B[0m \u001B[38;5;124;03m\"\"\"Evaluate a score by cross-validation.\u001B[39;00m\n\u001B[1;32m    390\u001B[0m \n\u001B[1;32m    391\u001B[0m \u001B[38;5;124;03mRead more in the :ref:`User Guide <cross_validation>`.\u001B[39;00m\n\u001B[0;32m   (...)\u001B[0m\n\u001B[1;32m    504\u001B[0m \u001B[38;5;124;03m    loss function.\u001B[39;00m\n\u001B[1;32m    505\u001B[0m \u001B[38;5;124;03m\"\"\"\u001B[39;00m\n\u001B[1;32m    506\u001B[0m \u001B[38;5;66;03m# To ensure multimetric format is not supported\u001B[39;00m\n\u001B[0;32m--> 507\u001B[0m scorer \u001B[38;5;241m=\u001B[39m \u001B[43mcheck_scoring\u001B[49m\u001B[43m(\u001B[49m\u001B[43mestimator\u001B[49m\u001B[43m,\u001B[49m\u001B[43m \u001B[49m\u001B[43mscoring\u001B[49m\u001B[38;5;241;43m=\u001B[39;49m\u001B[43mscoring\u001B[49m\u001B[43m)\u001B[49m\n\u001B[1;32m    509\u001B[0m cv_results \u001B[38;5;241m=\u001B[39m cross_validate(\n\u001B[1;32m    510\u001B[0m     estimator\u001B[38;5;241m=\u001B[39mestimator,\n\u001B[1;32m    511\u001B[0m     X\u001B[38;5;241m=\u001B[39mX,\n\u001B[0;32m   (...)\u001B[0m\n\u001B[1;32m    520\u001B[0m     error_score\u001B[38;5;241m=\u001B[39merror_score,\n\u001B[1;32m    521\u001B[0m )\n\u001B[1;32m    522\u001B[0m \u001B[38;5;28;01mreturn\u001B[39;00m cv_results[\u001B[38;5;124m\"\u001B[39m\u001B[38;5;124mtest_score\u001B[39m\u001B[38;5;124m\"\u001B[39m]\n",
      "File \u001B[0;32m~/.pyenv/versions/3.9.10/envs/3.9.10-tf/lib/python3.9/site-packages/sklearn/metrics/_scorer.py:453\u001B[0m, in \u001B[0;36mcheck_scoring\u001B[0;34m(estimator, scoring, allow_none)\u001B[0m\n\u001B[1;32m    448\u001B[0m     \u001B[38;5;28;01mraise\u001B[39;00m \u001B[38;5;167;01mTypeError\u001B[39;00m(\n\u001B[1;32m    449\u001B[0m         \u001B[38;5;124m\"\u001B[39m\u001B[38;5;124mestimator should be an estimator implementing \u001B[39m\u001B[38;5;124m'\u001B[39m\u001B[38;5;124mfit\u001B[39m\u001B[38;5;124m'\u001B[39m\u001B[38;5;124m method, \u001B[39m\u001B[38;5;132;01m%r\u001B[39;00m\u001B[38;5;124m was passed\u001B[39m\u001B[38;5;124m\"\u001B[39m\n\u001B[1;32m    450\u001B[0m         \u001B[38;5;241m%\u001B[39m estimator\n\u001B[1;32m    451\u001B[0m     )\n\u001B[1;32m    452\u001B[0m \u001B[38;5;28;01mif\u001B[39;00m \u001B[38;5;28misinstance\u001B[39m(scoring, \u001B[38;5;28mstr\u001B[39m):\n\u001B[0;32m--> 453\u001B[0m     \u001B[38;5;28;01mreturn\u001B[39;00m \u001B[43mget_scorer\u001B[49m\u001B[43m(\u001B[49m\u001B[43mscoring\u001B[49m\u001B[43m)\u001B[49m\n\u001B[1;32m    454\u001B[0m \u001B[38;5;28;01melif\u001B[39;00m callable(scoring):\n\u001B[1;32m    455\u001B[0m     \u001B[38;5;66;03m# Heuristic to ensure user has not passed a metric\u001B[39;00m\n\u001B[1;32m    456\u001B[0m     module \u001B[38;5;241m=\u001B[39m \u001B[38;5;28mgetattr\u001B[39m(scoring, \u001B[38;5;124m\"\u001B[39m\u001B[38;5;124m__module__\u001B[39m\u001B[38;5;124m\"\u001B[39m, \u001B[38;5;28;01mNone\u001B[39;00m)\n",
      "File \u001B[0;32m~/.pyenv/versions/3.9.10/envs/3.9.10-tf/lib/python3.9/site-packages/sklearn/metrics/_scorer.py:406\u001B[0m, in \u001B[0;36mget_scorer\u001B[0;34m(scoring)\u001B[0m\n\u001B[1;32m    404\u001B[0m         scorer \u001B[38;5;241m=\u001B[39m SCORERS[scoring]\n\u001B[1;32m    405\u001B[0m     \u001B[38;5;28;01mexcept\u001B[39;00m \u001B[38;5;167;01mKeyError\u001B[39;00m:\n\u001B[0;32m--> 406\u001B[0m         \u001B[38;5;28;01mraise\u001B[39;00m \u001B[38;5;167;01mValueError\u001B[39;00m(\n\u001B[1;32m    407\u001B[0m             \u001B[38;5;124m\"\u001B[39m\u001B[38;5;132;01m%r\u001B[39;00m\u001B[38;5;124m is not a valid scoring value. \u001B[39m\u001B[38;5;124m\"\u001B[39m\n\u001B[1;32m    408\u001B[0m             \u001B[38;5;124m\"\u001B[39m\u001B[38;5;124mUse sorted(sklearn.metrics.SCORERS.keys()) \u001B[39m\u001B[38;5;124m\"\u001B[39m\n\u001B[1;32m    409\u001B[0m             \u001B[38;5;124m\"\u001B[39m\u001B[38;5;124mto get valid options.\u001B[39m\u001B[38;5;124m\"\u001B[39m \u001B[38;5;241m%\u001B[39m scoring\n\u001B[1;32m    410\u001B[0m         )\n\u001B[1;32m    411\u001B[0m \u001B[38;5;28;01melse\u001B[39;00m:\n\u001B[1;32m    412\u001B[0m     scorer \u001B[38;5;241m=\u001B[39m scoring\n",
      "\u001B[0;31mValueError\u001B[0m: 'mean_squared_error' is not a valid scoring value. Use sorted(sklearn.metrics.SCORERS.keys()) to get valid options."
     ]
    }
   ],
   "source": [
    "get_linear_regression_model(*get_dummy_data('/Users/moberleitner/fhrepos/savebread/src/data/bakery_sales_dataset_preprocessed.csv'))"
   ],
   "metadata": {
    "collapsed": false,
    "pycharm": {
     "name": "#%%\n"
    }
   }
  },
  {
   "cell_type": "code",
   "execution_count": 60,
   "outputs": [
    {
     "name": "stdout",
     "output_type": "stream",
     "text": [
      "0.01 mean squared error with a standard deviation of 0.01\n"
     ]
    },
    {
     "name": "stderr",
     "output_type": "stream",
     "text": [
      "/Users/moberleitner/.pyenv/versions/3.9.10/envs/3.9.10-tf/lib/python3.9/site-packages/sklearn/preprocessing/_encoders.py:170: UserWarning: Found unknown categories in columns [0] during transform. These unknown categories will be encoded as all zeros\n",
      "  warnings.warn(\n"
     ]
    },
    {
     "data": {
      "text/plain": "Pipeline(steps=[('column_transform',\n                 ColumnTransformer(remainder='passthrough',\n                                   transformers=[('one_hot',\n                                                  OneHotEncoder(drop='first',\n                                                                handle_unknown='ignore',\n                                                                sparse=False),\n                                                  ['weekday'])])),\n                ('scaler', StandardScaler()),\n                ('clf', LinearRegression(n_jobs=-1))])"
     },
     "execution_count": 60,
     "metadata": {},
     "output_type": "execute_result"
    }
   ],
   "source": [
    "# Try cross validation\n",
    "clf = Pipeline([\n",
    "    ('column_transform', ColumnTransformer([\n",
    "        ('one_hot', OneHotEncoder(drop='first', handle_unknown='ignore', sparse=False), ['weekday'])\n",
    "    ], remainder='passthrough')),\n",
    "    (\"scaler\", StandardScaler()),\n",
    "    (\"clf\", LinearRegression(n_jobs=-1)),\n",
    "])\n",
    "scores = cross_val_score(clf, x, y, cv=5, scoring='neg_mean_squared_error')\n",
    "print(\"%0.2f mean squared error with a standard deviation of %0.2f\" % (-scores.mean(), scores.std()))\n",
    "clf.fit(x, y)"
   ],
   "metadata": {
    "collapsed": false,
    "pycharm": {
     "name": "#%%\n"
    }
   }
  },
  {
   "cell_type": "code",
   "execution_count": 67,
   "outputs": [
    {
     "data": {
      "text/plain": "     daytime  weekday  holiday  h_type  weather  temp  angbutter  plain bread  \\\n0          2        3        0       0        2  22.0   3.970949     0.215654   \n1          1        4        0       0        1  23.8  10.144080     2.831547   \n2          1        5        0       0        2  25.1  12.108533     3.423650   \n3          2        5        0       0        2  25.1   4.073557     0.470067   \n4          1        6        0       0        1  26.0  13.557374     4.305127   \n..       ...      ...      ...     ...      ...   ...        ...          ...   \n412        1        3        1       4        1  16.5   9.978449     2.595717   \n413        2        3        1       4        1  16.5   1.943473    -0.357866   \n414        1        4        1       1        1  20.5  10.587659     3.203962   \n415        2        4        1       1        1  20.5   2.552682     0.250380   \n416        1        5        0       0        1  20.8  11.581457     3.580020   \n\n          jam  americano  ...  gateau chocolat   pandoro  cheese cake  \\\n0    0.268798   0.126693  ...         0.573263  0.219915    -0.177107   \n1    0.751645   1.182663  ...         0.689915  1.385045     0.111248   \n2    0.934629   1.743538  ...         1.055234  1.837140     0.148007   \n3    0.329365   0.440945  ...         0.713963  0.630272    -0.058439   \n4    0.912009   2.614127  ...         0.964553  1.721422     0.177645   \n..        ...        ...  ...              ...       ...          ...   \n412  0.513597   1.894042  ...         0.737779  1.440245     0.129662   \n413 -0.091666   0.591448  ...         0.396508  0.233377    -0.076784   \n414  0.650906   1.958280  ...         0.708002  1.495401     0.233822   \n415  0.045642   0.655687  ...         0.366731  0.288533     0.027376   \n416  0.983834   1.776529  ...         0.919009  1.714305     0.219185   \n\n     lemon ade  orange pound    wiener  vanila latte  berry ade  tiramisu  \\\n0     0.014684      0.395598  0.798998      0.256673   0.078548  0.030275   \n1     0.174372      1.879356  1.767139      0.683841   0.216438  0.044127   \n2     0.210249      1.734961  2.193500      0.707888   0.228599  0.115665   \n3     0.131111      0.389380  0.981145      0.199439   0.076870  0.092384   \n4     0.118948      2.302704  2.523483      1.105881   0.272053  0.079488   \n..         ...           ...       ...           ...        ...       ...   \n412   0.002541      1.781241  1.837163      0.814138   0.100090  0.021570   \n413  -0.076597      0.435660  0.624808      0.305689  -0.051639 -0.001711   \n414   0.203798      2.570147  1.578623      1.257787   0.166355  0.002556   \n415   0.124660      1.224566  0.366268      0.749337   0.014626 -0.020724   \n416   0.210961      1.712225  2.012170      0.718465   0.219304  0.089410   \n\n     merinque cookies  \n0            0.116910  \n1            0.114321  \n2            0.183729  \n3            0.130944  \n4            0.205099  \n..                ...  \n412          0.094133  \n413          0.041349  \n414          0.346835  \n415          0.294050  \n416          0.199105  \n\n[417 rows x 29 columns]",
      "text/html": "<div>\n<style scoped>\n    .dataframe tbody tr th:only-of-type {\n        vertical-align: middle;\n    }\n\n    .dataframe tbody tr th {\n        vertical-align: top;\n    }\n\n    .dataframe thead th {\n        text-align: right;\n    }\n</style>\n<table border=\"1\" class=\"dataframe\">\n  <thead>\n    <tr style=\"text-align: right;\">\n      <th></th>\n      <th>daytime</th>\n      <th>weekday</th>\n      <th>holiday</th>\n      <th>h_type</th>\n      <th>weather</th>\n      <th>temp</th>\n      <th>angbutter</th>\n      <th>plain bread</th>\n      <th>jam</th>\n      <th>americano</th>\n      <th>...</th>\n      <th>gateau chocolat</th>\n      <th>pandoro</th>\n      <th>cheese cake</th>\n      <th>lemon ade</th>\n      <th>orange pound</th>\n      <th>wiener</th>\n      <th>vanila latte</th>\n      <th>berry ade</th>\n      <th>tiramisu</th>\n      <th>merinque cookies</th>\n    </tr>\n  </thead>\n  <tbody>\n    <tr>\n      <th>0</th>\n      <td>2</td>\n      <td>3</td>\n      <td>0</td>\n      <td>0</td>\n      <td>2</td>\n      <td>22.0</td>\n      <td>3.970949</td>\n      <td>0.215654</td>\n      <td>0.268798</td>\n      <td>0.126693</td>\n      <td>...</td>\n      <td>0.573263</td>\n      <td>0.219915</td>\n      <td>-0.177107</td>\n      <td>0.014684</td>\n      <td>0.395598</td>\n      <td>0.798998</td>\n      <td>0.256673</td>\n      <td>0.078548</td>\n      <td>0.030275</td>\n      <td>0.116910</td>\n    </tr>\n    <tr>\n      <th>1</th>\n      <td>1</td>\n      <td>4</td>\n      <td>0</td>\n      <td>0</td>\n      <td>1</td>\n      <td>23.8</td>\n      <td>10.144080</td>\n      <td>2.831547</td>\n      <td>0.751645</td>\n      <td>1.182663</td>\n      <td>...</td>\n      <td>0.689915</td>\n      <td>1.385045</td>\n      <td>0.111248</td>\n      <td>0.174372</td>\n      <td>1.879356</td>\n      <td>1.767139</td>\n      <td>0.683841</td>\n      <td>0.216438</td>\n      <td>0.044127</td>\n      <td>0.114321</td>\n    </tr>\n    <tr>\n      <th>2</th>\n      <td>1</td>\n      <td>5</td>\n      <td>0</td>\n      <td>0</td>\n      <td>2</td>\n      <td>25.1</td>\n      <td>12.108533</td>\n      <td>3.423650</td>\n      <td>0.934629</td>\n      <td>1.743538</td>\n      <td>...</td>\n      <td>1.055234</td>\n      <td>1.837140</td>\n      <td>0.148007</td>\n      <td>0.210249</td>\n      <td>1.734961</td>\n      <td>2.193500</td>\n      <td>0.707888</td>\n      <td>0.228599</td>\n      <td>0.115665</td>\n      <td>0.183729</td>\n    </tr>\n    <tr>\n      <th>3</th>\n      <td>2</td>\n      <td>5</td>\n      <td>0</td>\n      <td>0</td>\n      <td>2</td>\n      <td>25.1</td>\n      <td>4.073557</td>\n      <td>0.470067</td>\n      <td>0.329365</td>\n      <td>0.440945</td>\n      <td>...</td>\n      <td>0.713963</td>\n      <td>0.630272</td>\n      <td>-0.058439</td>\n      <td>0.131111</td>\n      <td>0.389380</td>\n      <td>0.981145</td>\n      <td>0.199439</td>\n      <td>0.076870</td>\n      <td>0.092384</td>\n      <td>0.130944</td>\n    </tr>\n    <tr>\n      <th>4</th>\n      <td>1</td>\n      <td>6</td>\n      <td>0</td>\n      <td>0</td>\n      <td>1</td>\n      <td>26.0</td>\n      <td>13.557374</td>\n      <td>4.305127</td>\n      <td>0.912009</td>\n      <td>2.614127</td>\n      <td>...</td>\n      <td>0.964553</td>\n      <td>1.721422</td>\n      <td>0.177645</td>\n      <td>0.118948</td>\n      <td>2.302704</td>\n      <td>2.523483</td>\n      <td>1.105881</td>\n      <td>0.272053</td>\n      <td>0.079488</td>\n      <td>0.205099</td>\n    </tr>\n    <tr>\n      <th>...</th>\n      <td>...</td>\n      <td>...</td>\n      <td>...</td>\n      <td>...</td>\n      <td>...</td>\n      <td>...</td>\n      <td>...</td>\n      <td>...</td>\n      <td>...</td>\n      <td>...</td>\n      <td>...</td>\n      <td>...</td>\n      <td>...</td>\n      <td>...</td>\n      <td>...</td>\n      <td>...</td>\n      <td>...</td>\n      <td>...</td>\n      <td>...</td>\n      <td>...</td>\n      <td>...</td>\n    </tr>\n    <tr>\n      <th>412</th>\n      <td>1</td>\n      <td>3</td>\n      <td>1</td>\n      <td>4</td>\n      <td>1</td>\n      <td>16.5</td>\n      <td>9.978449</td>\n      <td>2.595717</td>\n      <td>0.513597</td>\n      <td>1.894042</td>\n      <td>...</td>\n      <td>0.737779</td>\n      <td>1.440245</td>\n      <td>0.129662</td>\n      <td>0.002541</td>\n      <td>1.781241</td>\n      <td>1.837163</td>\n      <td>0.814138</td>\n      <td>0.100090</td>\n      <td>0.021570</td>\n      <td>0.094133</td>\n    </tr>\n    <tr>\n      <th>413</th>\n      <td>2</td>\n      <td>3</td>\n      <td>1</td>\n      <td>4</td>\n      <td>1</td>\n      <td>16.5</td>\n      <td>1.943473</td>\n      <td>-0.357866</td>\n      <td>-0.091666</td>\n      <td>0.591448</td>\n      <td>...</td>\n      <td>0.396508</td>\n      <td>0.233377</td>\n      <td>-0.076784</td>\n      <td>-0.076597</td>\n      <td>0.435660</td>\n      <td>0.624808</td>\n      <td>0.305689</td>\n      <td>-0.051639</td>\n      <td>-0.001711</td>\n      <td>0.041349</td>\n    </tr>\n    <tr>\n      <th>414</th>\n      <td>1</td>\n      <td>4</td>\n      <td>1</td>\n      <td>1</td>\n      <td>1</td>\n      <td>20.5</td>\n      <td>10.587659</td>\n      <td>3.203962</td>\n      <td>0.650906</td>\n      <td>1.958280</td>\n      <td>...</td>\n      <td>0.708002</td>\n      <td>1.495401</td>\n      <td>0.233822</td>\n      <td>0.203798</td>\n      <td>2.570147</td>\n      <td>1.578623</td>\n      <td>1.257787</td>\n      <td>0.166355</td>\n      <td>0.002556</td>\n      <td>0.346835</td>\n    </tr>\n    <tr>\n      <th>415</th>\n      <td>2</td>\n      <td>4</td>\n      <td>1</td>\n      <td>1</td>\n      <td>1</td>\n      <td>20.5</td>\n      <td>2.552682</td>\n      <td>0.250380</td>\n      <td>0.045642</td>\n      <td>0.655687</td>\n      <td>...</td>\n      <td>0.366731</td>\n      <td>0.288533</td>\n      <td>0.027376</td>\n      <td>0.124660</td>\n      <td>1.224566</td>\n      <td>0.366268</td>\n      <td>0.749337</td>\n      <td>0.014626</td>\n      <td>-0.020724</td>\n      <td>0.294050</td>\n    </tr>\n    <tr>\n      <th>416</th>\n      <td>1</td>\n      <td>5</td>\n      <td>0</td>\n      <td>0</td>\n      <td>1</td>\n      <td>20.8</td>\n      <td>11.581457</td>\n      <td>3.580020</td>\n      <td>0.983834</td>\n      <td>1.776529</td>\n      <td>...</td>\n      <td>0.919009</td>\n      <td>1.714305</td>\n      <td>0.219185</td>\n      <td>0.210961</td>\n      <td>1.712225</td>\n      <td>2.012170</td>\n      <td>0.718465</td>\n      <td>0.219304</td>\n      <td>0.089410</td>\n      <td>0.199105</td>\n    </tr>\n  </tbody>\n</table>\n<p>417 rows × 29 columns</p>\n</div>"
     },
     "execution_count": 67,
     "metadata": {},
     "output_type": "execute_result"
    }
   ],
   "source": [
    "# Combine x and y\n",
    "\n",
    "# clf = get_linear_regression_model(x, y)\n",
    "y_pred = clf.predict(x)\n",
    "df_y = pd.DataFrame(y_pred, columns=y.columns)\n",
    "pd.concat([x, df_y], axis=1)"
   ],
   "metadata": {
    "collapsed": false,
    "pycharm": {
     "name": "#%%\n"
    }
   }
  },
  {
   "cell_type": "code",
   "execution_count": 58,
   "outputs": [
    {
     "data": {
      "text/plain": "array(['one_hot__weekday_1', 'one_hot__weekday_2', 'one_hot__weekday_3',\n       'one_hot__weekday_4', 'one_hot__weekday_5', 'one_hot__weekday_6',\n       'remainder__daytime', 'remainder__holiday', 'remainder__h_type',\n       'remainder__weather', 'remainder__temp'], dtype=object)"
     },
     "execution_count": 58,
     "metadata": {},
     "output_type": "execute_result"
    }
   ],
   "source": [],
   "metadata": {
    "collapsed": false,
    "pycharm": {
     "name": "#%%\n"
    }
   }
  },
  {
   "cell_type": "code",
   "execution_count": null,
   "outputs": [],
   "source": [],
   "metadata": {
    "collapsed": false,
    "pycharm": {
     "name": "#%%\n"
    }
   }
  }
 ],
 "metadata": {
  "kernelspec": {
   "display_name": "Python 3",
   "language": "python",
   "name": "python3"
  },
  "language_info": {
   "codemirror_mode": {
    "name": "ipython",
    "version": 2
   },
   "file_extension": ".py",
   "mimetype": "text/x-python",
   "name": "python",
   "nbconvert_exporter": "python",
   "pygments_lexer": "ipython2",
   "version": "2.7.6"
  }
 },
 "nbformat": 4,
 "nbformat_minor": 0
}